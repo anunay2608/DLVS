{
 "cells": [
  {
   "cell_type": "markdown",
   "metadata": {},
   "source": [
    "DELTA WALA HAI YE"
   ]
  },
  {
   "cell_type": "code",
   "execution_count": 1,
   "metadata": {},
   "outputs": [],
   "source": [
    "import tensorflow as tf\n",
    "import os\n",
    "import numpy as np\n",
    "import pickle\n",
    "from tensorflow.keras.layers import Activation\n",
    "os.environ[\"CUDA_VISIBLE_DEVICES\"] = \"-1\""
   ]
  },
  {
   "cell_type": "code",
   "execution_count": null,
   "metadata": {},
   "outputs": [],
   "source": []
  },
  {
   "cell_type": "code",
   "execution_count": 2,
   "metadata": {},
   "outputs": [],
   "source": [
    "### MODEL ###"
   ]
  },
  {
   "cell_type": "code",
   "execution_count": 3,
   "metadata": {},
   "outputs": [],
   "source": [
    "def activation_fn(x):\n",
    "    value = (5*(tf.math.exp(x/5) - tf.math.exp(-x/5))/(tf.math.exp(x/5) + tf.math.exp(-x/5)))\n",
    "    return value"
   ]
  },
  {
   "cell_type": "code",
   "execution_count": 4,
   "metadata": {},
   "outputs": [],
   "source": [
    "from keras.utils.generic_utils import get_custom_objects\n",
    "get_custom_objects().update({'modified_tanh': Activation(activation_fn)})"
   ]
  },
  {
   "cell_type": "code",
   "execution_count": null,
   "metadata": {},
   "outputs": [],
   "source": []
  },
  {
   "cell_type": "code",
   "execution_count": 5,
   "metadata": {},
   "outputs": [
    {
     "name": "stdout",
     "output_type": "stream",
     "text": [
      "KerasTensor(type_spec=TensorSpec(shape=(None, 32, 2), dtype=tf.float32, name=None), name='lstm_7/PartitionedCall:1', description=\"created by layer 'lstm_7'\")\n"
     ]
    }
   ],
   "source": [
    "input_layer = tf.keras.layers.Input((32, 5))\n",
    "lstm_1 = tf.keras.layers.LSTM(16, activation='tanh', recurrent_activation='sigmoid', dropout = 0.15, return_sequences = True, return_state = True)(input_layer)\n",
    "lstm_2 = tf.keras.layers.LSTM(64, activation='tanh', recurrent_activation='sigmoid', dropout = 0.15, return_sequences = True, return_state = True)(lstm_1[0])\n",
    "lstm_3 = tf.keras.layers.LSTM(256, activation='tanh', recurrent_activation='sigmoid', dropout = 0.15, return_sequences = True, return_state = True)(lstm_2[0])\n",
    "lstm_4 = tf.keras.layers.LSTM(512, activation='tanh', recurrent_activation='sigmoid', dropout = 0.15, return_sequences = True, return_state = True)(lstm_3[0])\n",
    "lstm_5 = tf.keras.layers.LSTM(256, activation='tanh', recurrent_activation='sigmoid', dropout = 0.15, return_sequences = True, return_state = True)(lstm_4[0])\n",
    "lstm_6 = tf.keras.layers.LSTM(64, activation='tanh', recurrent_activation='sigmoid', dropout = 0.15, return_sequences = True, return_state = True)(lstm_5[0])\n",
    "lstm_7 = tf.keras.layers.LSTM(16, activation='tanh', recurrent_activation='sigmoid', dropout = 0.15, return_sequences = True, return_state = True)(lstm_6[0])\n",
    "lstm_8 = tf.keras.layers.LSTM(2, activation='tanh', recurrent_activation='sigmoid', dropout = 0.15, return_sequences = True, return_state = True)(lstm_7[0])\n",
    "print(lstm_8[0])"
   ]
  },
  {
   "cell_type": "code",
   "execution_count": 6,
   "metadata": {},
   "outputs": [],
   "source": [
    "model = tf.keras.models.Model(inputs = input_layer, outputs = lstm_8[0], name = \"DLVS_Model\")"
   ]
  },
  {
   "cell_type": "code",
   "execution_count": 7,
   "metadata": {},
   "outputs": [
    {
     "name": "stdout",
     "output_type": "stream",
     "text": [
      "Model: \"DLVS_Model\"\n",
      "_________________________________________________________________\n",
      "Layer (type)                 Output Shape              Param #   \n",
      "=================================================================\n",
      "input_1 (InputLayer)         [(None, 32, 5)]           0         \n",
      "_________________________________________________________________\n",
      "lstm (LSTM)                  [(None, 32, 16), (None, 1 1408      \n",
      "_________________________________________________________________\n",
      "lstm_1 (LSTM)                [(None, 32, 64), (None, 6 20736     \n",
      "_________________________________________________________________\n",
      "lstm_2 (LSTM)                [(None, 32, 256), (None,  328704    \n",
      "_________________________________________________________________\n",
      "lstm_3 (LSTM)                [(None, 32, 512), (None,  1574912   \n",
      "_________________________________________________________________\n",
      "lstm_4 (LSTM)                [(None, 32, 256), (None,  787456    \n",
      "_________________________________________________________________\n",
      "lstm_5 (LSTM)                [(None, 32, 64), (None, 6 82176     \n",
      "_________________________________________________________________\n",
      "lstm_6 (LSTM)                [(None, 32, 16), (None, 1 5184      \n",
      "_________________________________________________________________\n",
      "lstm_7 (LSTM)                [(None, 32, 2), (None, 2) 152       \n",
      "=================================================================\n",
      "Total params: 2,800,728\n",
      "Trainable params: 2,800,728\n",
      "Non-trainable params: 0\n",
      "_________________________________________________________________\n"
     ]
    }
   ],
   "source": [
    "model.summary()"
   ]
  },
  {
   "cell_type": "code",
   "execution_count": null,
   "metadata": {},
   "outputs": [],
   "source": []
  },
  {
   "cell_type": "code",
   "execution_count": 8,
   "metadata": {},
   "outputs": [],
   "source": [
    "### LOSS ###"
   ]
  },
  {
   "cell_type": "code",
   "execution_count": 9,
   "metadata": {},
   "outputs": [],
   "source": [
    "def loss(y_true, y_pred):\n",
    "    y_true = tf.convert_to_tensor(y_true, dtype = tf.float32)\n",
    "    y_pred = tf.convert_to_tensor(y_pred, dtype = tf.float32)\n",
    "    l1 = tf.reduce_mean(tf.math.abs((y_true - y_pred)))\n",
    "    l2 = tf.reduce_mean(tf.math.pow((y_true, y_pred), 2))\n",
    "    loss = l1 + l2\n",
    "    return loss"
   ]
  },
  {
   "cell_type": "code",
   "execution_count": null,
   "metadata": {},
   "outputs": [],
   "source": []
  },
  {
   "cell_type": "code",
   "execution_count": 10,
   "metadata": {},
   "outputs": [],
   "source": [
    "import os\n",
    "error_final = []\n",
    "vel_final = []\n",
    "path = \"/home/uas-dtu/Documents/DL_IBVS/vel_in_delta/\"\n",
    "for a in os.listdir(path):\n",
    "    file = open(path + \"/\" + a, \"r\")\n",
    "    for i in [file.readlines()]:\n",
    "        for j in range(len(i) - 32):\n",
    "#             print(j)\n",
    "            error_data = []\n",
    "            vel_data = []\n",
    "            for k in range(32):\n",
    "                #print(i[j + k].split(\",\")[3].split('[')[1].split(\"]\")[0])\n",
    "                #rint(float(i[j + k].split(\",\")[5]))\n",
    "                #print(i[j + k].split(\",\")[4].split(\"\\n\"))\n",
    "                error_data.append([float(i[j + k].split(\",\")[0]), \n",
    "                                   float(i[j + k].split(\",\")[1]),\n",
    "                                   float(i[j + k].split(\",\")[2]), \n",
    "                                  float(i[j + k].split(\",\")[3]), \n",
    "                                  float(i[j + k].split(\",\")[4])])\n",
    "                vel_data.append([float(i[j + k].split(\",\")[5].split('[')[1].split(\"]\")[0]),\n",
    "                                 float(i[j + k].split(\",\")[6].split('[')[1].split(\"]\")[0])])\n",
    "                \n",
    "                #print(error_data)\n",
    "            error_final.append(error_data)\n",
    "            vel_final.append(vel_data)"
   ]
  },
  {
   "cell_type": "code",
   "execution_count": 11,
   "metadata": {},
   "outputs": [
    {
     "name": "stdout",
     "output_type": "stream",
     "text": [
      "44681\n",
      "44681\n"
     ]
    }
   ],
   "source": [
    "print(len(vel_final))\n",
    "print(len(error_final))"
   ]
  },
  {
   "cell_type": "code",
   "execution_count": null,
   "metadata": {},
   "outputs": [],
   "source": []
  },
  {
   "cell_type": "code",
   "execution_count": 12,
   "metadata": {},
   "outputs": [],
   "source": [
    "import numpy as np\n",
    "import cv2\n",
    "from tensorflow.keras.utils import Sequence\n",
    "import tensorflow as tf\n",
    "import os\n",
    "import json\n",
    "import random\n",
    "\n",
    "\n",
    "class DataGenerator(Sequence):\n",
    "    def __init__(self, error_final, vel_final,\n",
    "                 batch_size=32,\n",
    "                 shuffle=True):\n",
    "        self.error_final = error_final\n",
    "        self.vel_final = vel_final\n",
    "        self.batch_size = batch_size\n",
    "        self.shuffle = shuffle\n",
    "        self.on_epoch_end()\n",
    "\n",
    "    def on_epoch_end(self):\n",
    "        if self.shuffle:\n",
    "            temp = [i for i in range(len(self.error_final))]\n",
    "            random.shuffle(temp)\n",
    "            #       self.flow_videos = [self.flow_videos[i] for i in temp]\n",
    "            self.error_final = [self.error_final[i] for i in temp]\n",
    "            self.vel_final = [self.vel_final[i] for i in temp]\n",
    "\n",
    "    def __len__(self):\n",
    "        return int(np.floor(len(self.error_final) / self.batch_size))\n",
    "\n",
    "\n",
    "    def __getitem__(self, index):\n",
    "        start_index = index * self.batch_size\n",
    "#         input_1 = []\n",
    "        error_reading = []\n",
    "        vel_reading = []\n",
    "        i = start_index - 1\n",
    "        while len(error_reading) < self.batch_size:\n",
    "            try:\n",
    "                i += 1\n",
    "                error = self.error_final[i%len(self.error_final)]\n",
    "                vel = self.vel_final[i%len(self.vel_final)]\n",
    "                error_reading.append(error)\n",
    "                vel_reading.append(vel)\n",
    "\n",
    "            except Exception as err:\n",
    "                print(err)\n",
    "                continue\n",
    "            \n",
    "        vel_reading = np.array(vel_reading, dtype = np.float32)\n",
    "        error_reading = np.array(error_reading, dtype = np.float32)\n",
    "            \n",
    "        return error_reading, vel_reading"
   ]
  },
  {
   "cell_type": "code",
   "execution_count": 13,
   "metadata": {},
   "outputs": [],
   "source": [
    "train_data = DataGenerator(error_final, vel_final, batch_size=32, shuffle=True)"
   ]
  },
  {
   "cell_type": "code",
   "execution_count": 14,
   "metadata": {
    "scrolled": true
   },
   "outputs": [
    {
     "name": "stdout",
     "output_type": "stream",
     "text": [
      "(32, 32, 5)\n"
     ]
    }
   ],
   "source": [
    "print(train_data.__getitem__(0)[0].shape)"
   ]
  },
  {
   "cell_type": "code",
   "execution_count": 15,
   "metadata": {},
   "outputs": [],
   "source": [
    "from tensorflow.keras.callbacks import (\n",
    "    ModelCheckpoint,\n",
    "    TensorBoard\n",
    ")\n",
    "import tensorflow as tf"
   ]
  },
  {
   "cell_type": "code",
   "execution_count": 16,
   "metadata": {},
   "outputs": [],
   "source": [
    "callbacks = [tf.keras.callbacks.ModelCheckpoint(\"/home/uas-dtu/Documents/DL_IBVS/vel_input_delta/train_{epoch}.tf\", verbose = 1,\n",
    "                                                save_weights_only=True),\n",
    "             TensorBoard(\"/home/uas-dtu/Documents/DL_IBVS/vel_input_delta/combined_logs\")]"
   ]
  },
  {
   "cell_type": "code",
   "execution_count": 17,
   "metadata": {},
   "outputs": [],
   "source": [
    "def mse(y_true, y_pred):\n",
    "    y_true = tf.convert_to_tensor(y_true, dtype = tf.float32)\n",
    "    y_pred = tf.convert_to_tensor(y_pred, dtype=tf.float32)\n",
    "    l1 = tf.reduce_mean(tf.math.pow((y_pred - y_true), 2))\n",
    "    l2 = tf.reduce_mean(tf.math.abs((y_pred - y_true)))\n",
    "    loss = l1 + l2\n",
    "    return loss"
   ]
  },
  {
   "cell_type": "code",
   "execution_count": 18,
   "metadata": {},
   "outputs": [],
   "source": [
    "from tensorflow.keras.optimizers import Adam\n",
    "optimizer=Adam(learning_rate=0.0005)"
   ]
  },
  {
   "cell_type": "code",
   "execution_count": 19,
   "metadata": {},
   "outputs": [],
   "source": [
    "model.compile(optimizer=optimizer,loss=mse, metrics = [tf.keras.metrics.RootMeanSquaredError()])"
   ]
  },
  {
   "cell_type": "code",
   "execution_count": 20,
   "metadata": {},
   "outputs": [
    {
     "data": {
      "text/plain": [
       "<tensorflow.python.training.tracking.util.CheckpointLoadStatus at 0x7f39af8888d0>"
      ]
     },
     "execution_count": 20,
     "metadata": {},
     "output_type": "execute_result"
    }
   ],
   "source": [
    "model.load_weights(\"./vel_input_delta//train_131.tf\")"
   ]
  },
  {
   "cell_type": "code",
   "execution_count": 21,
   "metadata": {
    "scrolled": true
   },
   "outputs": [
    {
     "name": "stdout",
     "output_type": "stream",
     "text": [
      "Epoch 132/2000\n",
      "1396/1396 [==============================] - 462s 325ms/step - loss: 0.0387 - root_mean_squared_error: 0.0724\n",
      "\n",
      "Epoch 00132: saving model to /home/uas-dtu/Documents/DL_IBVS/vel_input_delta/train_132.tf\n",
      "Epoch 133/2000\n",
      "1396/1396 [==============================] - 453s 324ms/step - loss: 0.0343 - root_mean_squared_error: 0.0655\n",
      "\n",
      "Epoch 00133: saving model to /home/uas-dtu/Documents/DL_IBVS/vel_input_delta/train_133.tf\n",
      "Epoch 134/2000\n",
      "1396/1396 [==============================] - 454s 325ms/step - loss: 0.0332 - root_mean_squared_error: 0.0642\n",
      "\n",
      "Epoch 00134: saving model to /home/uas-dtu/Documents/DL_IBVS/vel_input_delta/train_134.tf\n",
      "Epoch 135/2000\n",
      "1396/1396 [==============================] - 454s 325ms/step - loss: 0.0319 - root_mean_squared_error: 0.0618\n",
      "\n",
      "Epoch 00135: saving model to /home/uas-dtu/Documents/DL_IBVS/vel_input_delta/train_135.tf\n",
      "Epoch 136/2000\n",
      "1396/1396 [==============================] - 454s 325ms/step - loss: 0.0317 - root_mean_squared_error: 0.0616\n",
      "\n",
      "Epoch 00136: saving model to /home/uas-dtu/Documents/DL_IBVS/vel_input_delta/train_136.tf\n",
      "Epoch 137/2000\n",
      "1396/1396 [==============================] - 454s 325ms/step - loss: 0.0309 - root_mean_squared_error: 0.0606\n",
      "\n",
      "Epoch 00137: saving model to /home/uas-dtu/Documents/DL_IBVS/vel_input_delta/train_137.tf\n",
      "Epoch 138/2000\n",
      "1396/1396 [==============================] - 454s 325ms/step - loss: 0.0303 - root_mean_squared_error: 0.0594\n",
      "\n",
      "Epoch 00138: saving model to /home/uas-dtu/Documents/DL_IBVS/vel_input_delta/train_138.tf\n",
      "Epoch 139/2000\n",
      "1396/1396 [==============================] - 454s 325ms/step - loss: 0.0299 - root_mean_squared_error: 0.0589\n",
      "\n",
      "Epoch 00139: saving model to /home/uas-dtu/Documents/DL_IBVS/vel_input_delta/train_139.tf\n",
      "Epoch 140/2000\n",
      "1396/1396 [==============================] - 453s 325ms/step - loss: 0.0299 - root_mean_squared_error: 0.0591\n",
      "\n",
      "Epoch 00140: saving model to /home/uas-dtu/Documents/DL_IBVS/vel_input_delta/train_140.tf\n",
      "Epoch 141/2000\n",
      "1396/1396 [==============================] - 454s 325ms/step - loss: 0.0291 - root_mean_squared_error: 0.0578\n",
      "\n",
      "Epoch 00141: saving model to /home/uas-dtu/Documents/DL_IBVS/vel_input_delta/train_141.tf\n",
      "Epoch 142/2000\n",
      "1396/1396 [==============================] - 453s 325ms/step - loss: 0.0290 - root_mean_squared_error: 0.0578\n",
      "\n",
      "Epoch 00142: saving model to /home/uas-dtu/Documents/DL_IBVS/vel_input_delta/train_142.tf\n",
      "Epoch 143/2000\n",
      "1396/1396 [==============================] - 453s 324ms/step - loss: 0.0286 - root_mean_squared_error: 0.0571\n",
      "\n",
      "Epoch 00143: saving model to /home/uas-dtu/Documents/DL_IBVS/vel_input_delta/train_143.tf\n",
      "Epoch 144/2000\n",
      "1396/1396 [==============================] - 453s 325ms/step - loss: 0.0281 - root_mean_squared_error: 0.0563\n",
      "\n",
      "Epoch 00144: saving model to /home/uas-dtu/Documents/DL_IBVS/vel_input_delta/train_144.tf\n",
      "Epoch 145/2000\n",
      "1396/1396 [==============================] - 453s 324ms/step - loss: 0.0278 - root_mean_squared_error: 0.0559\n",
      "\n",
      "Epoch 00145: saving model to /home/uas-dtu/Documents/DL_IBVS/vel_input_delta/train_145.tf\n",
      "Epoch 146/2000\n",
      "1396/1396 [==============================] - 453s 324ms/step - loss: 0.0278 - root_mean_squared_error: 0.0560\n",
      "\n",
      "Epoch 00146: saving model to /home/uas-dtu/Documents/DL_IBVS/vel_input_delta/train_146.tf\n",
      "Epoch 147/2000\n",
      "1396/1396 [==============================] - 453s 325ms/step - loss: 0.0273 - root_mean_squared_error: 0.0554\n",
      "\n",
      "Epoch 00147: saving model to /home/uas-dtu/Documents/DL_IBVS/vel_input_delta/train_147.tf\n",
      "Epoch 148/2000\n",
      "1396/1396 [==============================] - 450s 322ms/step - loss: 0.0271 - root_mean_squared_error: 0.0546\n",
      "\n",
      "Epoch 00148: saving model to /home/uas-dtu/Documents/DL_IBVS/vel_input_delta/train_148.tf\n",
      "Epoch 149/2000\n",
      "1396/1396 [==============================] - 450s 323ms/step - loss: 0.0269 - root_mean_squared_error: 0.0545\n",
      "\n",
      "Epoch 00149: saving model to /home/uas-dtu/Documents/DL_IBVS/vel_input_delta/train_149.tf\n",
      "Epoch 150/2000\n",
      "1396/1396 [==============================] - 451s 323ms/step - loss: 0.0269 - root_mean_squared_error: 0.0547\n",
      "\n",
      "Epoch 00150: saving model to /home/uas-dtu/Documents/DL_IBVS/vel_input_delta/train_150.tf\n",
      "Epoch 151/2000\n",
      "1396/1396 [==============================] - 453s 325ms/step - loss: 0.0267 - root_mean_squared_error: 0.0546\n",
      "\n",
      "Epoch 00151: saving model to /home/uas-dtu/Documents/DL_IBVS/vel_input_delta/train_151.tf\n",
      "Epoch 152/2000\n",
      "1396/1396 [==============================] - 453s 325ms/step - loss: 0.0263 - root_mean_squared_error: 0.0538\n",
      "\n",
      "Epoch 00152: saving model to /home/uas-dtu/Documents/DL_IBVS/vel_input_delta/train_152.tf\n",
      "Epoch 153/2000\n",
      "1396/1396 [==============================] - 454s 325ms/step - loss: 0.0259 - root_mean_squared_error: 0.0529\n",
      "\n",
      "Epoch 00153: saving model to /home/uas-dtu/Documents/DL_IBVS/vel_input_delta/train_153.tf\n",
      "Epoch 154/2000\n",
      "1396/1396 [==============================] - 453s 324ms/step - loss: 0.0259 - root_mean_squared_error: 0.0529\n",
      "\n",
      "Epoch 00154: saving model to /home/uas-dtu/Documents/DL_IBVS/vel_input_delta/train_154.tf\n",
      "Epoch 155/2000\n",
      "1396/1396 [==============================] - 453s 325ms/step - loss: 0.0259 - root_mean_squared_error: 0.0533\n",
      "\n",
      "Epoch 00155: saving model to /home/uas-dtu/Documents/DL_IBVS/vel_input_delta/train_155.tf\n",
      "Epoch 156/2000\n",
      "1396/1396 [==============================] - 453s 325ms/step - loss: 0.0254 - root_mean_squared_error: 0.0522\n",
      "\n",
      "Epoch 00156: saving model to /home/uas-dtu/Documents/DL_IBVS/vel_input_delta/train_156.tf\n",
      "Epoch 157/2000\n",
      "1205/1396 [========================>.....] - ETA: 1:01 - loss: 0.0258 - root_mean_squared_error: 0.0534"
     ]
    },
    {
     "ename": "KeyboardInterrupt",
     "evalue": "",
     "output_type": "error",
     "traceback": [
      "\u001b[0;31m---------------------------------------------------------------------------\u001b[0m",
      "\u001b[0;31mKeyboardInterrupt\u001b[0m                         Traceback (most recent call last)",
      "\u001b[0;32m<ipython-input-21-b6d849b1811b>\u001b[0m in \u001b[0;36m<module>\u001b[0;34m\u001b[0m\n\u001b[0;32m----> 1\u001b[0;31m \u001b[0mmodel\u001b[0m\u001b[0;34m.\u001b[0m\u001b[0mfit\u001b[0m\u001b[0;34m(\u001b[0m\u001b[0mtrain_data\u001b[0m\u001b[0;34m,\u001b[0m \u001b[0mepochs\u001b[0m\u001b[0;34m=\u001b[0m\u001b[0;36m2000\u001b[0m\u001b[0;34m,\u001b[0m \u001b[0mverbose\u001b[0m\u001b[0;34m=\u001b[0m\u001b[0;36m1\u001b[0m\u001b[0;34m,\u001b[0m \u001b[0mcallbacks\u001b[0m\u001b[0;34m=\u001b[0m\u001b[0mcallbacks\u001b[0m\u001b[0;34m,\u001b[0m \u001b[0minitial_epoch\u001b[0m \u001b[0;34m=\u001b[0m \u001b[0;36m131\u001b[0m\u001b[0;34m)\u001b[0m\u001b[0;34m\u001b[0m\u001b[0;34m\u001b[0m\u001b[0m\n\u001b[0m",
      "\u001b[0;32m~/.local/lib/python3.6/site-packages/keras/engine/training.py\u001b[0m in \u001b[0;36mfit\u001b[0;34m(self, x, y, batch_size, epochs, verbose, callbacks, validation_split, validation_data, shuffle, class_weight, sample_weight, initial_epoch, steps_per_epoch, validation_steps, validation_batch_size, validation_freq, max_queue_size, workers, use_multiprocessing)\u001b[0m\n\u001b[1;32m   1182\u001b[0m                 _r=1):\n\u001b[1;32m   1183\u001b[0m               \u001b[0mcallbacks\u001b[0m\u001b[0;34m.\u001b[0m\u001b[0mon_train_batch_begin\u001b[0m\u001b[0;34m(\u001b[0m\u001b[0mstep\u001b[0m\u001b[0;34m)\u001b[0m\u001b[0;34m\u001b[0m\u001b[0;34m\u001b[0m\u001b[0m\n\u001b[0;32m-> 1184\u001b[0;31m               \u001b[0mtmp_logs\u001b[0m \u001b[0;34m=\u001b[0m \u001b[0mself\u001b[0m\u001b[0;34m.\u001b[0m\u001b[0mtrain_function\u001b[0m\u001b[0;34m(\u001b[0m\u001b[0miterator\u001b[0m\u001b[0;34m)\u001b[0m\u001b[0;34m\u001b[0m\u001b[0;34m\u001b[0m\u001b[0m\n\u001b[0m\u001b[1;32m   1185\u001b[0m               \u001b[0;32mif\u001b[0m \u001b[0mdata_handler\u001b[0m\u001b[0;34m.\u001b[0m\u001b[0mshould_sync\u001b[0m\u001b[0;34m:\u001b[0m\u001b[0;34m\u001b[0m\u001b[0;34m\u001b[0m\u001b[0m\n\u001b[1;32m   1186\u001b[0m                 \u001b[0mcontext\u001b[0m\u001b[0;34m.\u001b[0m\u001b[0masync_wait\u001b[0m\u001b[0;34m(\u001b[0m\u001b[0;34m)\u001b[0m\u001b[0;34m\u001b[0m\u001b[0;34m\u001b[0m\u001b[0m\n",
      "\u001b[0;32m~/.local/lib/python3.6/site-packages/tensorflow/python/eager/def_function.py\u001b[0m in \u001b[0;36m__call__\u001b[0;34m(self, *args, **kwds)\u001b[0m\n\u001b[1;32m    883\u001b[0m \u001b[0;34m\u001b[0m\u001b[0m\n\u001b[1;32m    884\u001b[0m       \u001b[0;32mwith\u001b[0m \u001b[0mOptionalXlaContext\u001b[0m\u001b[0;34m(\u001b[0m\u001b[0mself\u001b[0m\u001b[0;34m.\u001b[0m\u001b[0m_jit_compile\u001b[0m\u001b[0;34m)\u001b[0m\u001b[0;34m:\u001b[0m\u001b[0;34m\u001b[0m\u001b[0;34m\u001b[0m\u001b[0m\n\u001b[0;32m--> 885\u001b[0;31m         \u001b[0mresult\u001b[0m \u001b[0;34m=\u001b[0m \u001b[0mself\u001b[0m\u001b[0;34m.\u001b[0m\u001b[0m_call\u001b[0m\u001b[0;34m(\u001b[0m\u001b[0;34m*\u001b[0m\u001b[0margs\u001b[0m\u001b[0;34m,\u001b[0m \u001b[0;34m**\u001b[0m\u001b[0mkwds\u001b[0m\u001b[0;34m)\u001b[0m\u001b[0;34m\u001b[0m\u001b[0;34m\u001b[0m\u001b[0m\n\u001b[0m\u001b[1;32m    886\u001b[0m \u001b[0;34m\u001b[0m\u001b[0m\n\u001b[1;32m    887\u001b[0m       \u001b[0mnew_tracing_count\u001b[0m \u001b[0;34m=\u001b[0m \u001b[0mself\u001b[0m\u001b[0;34m.\u001b[0m\u001b[0mexperimental_get_tracing_count\u001b[0m\u001b[0;34m(\u001b[0m\u001b[0;34m)\u001b[0m\u001b[0;34m\u001b[0m\u001b[0;34m\u001b[0m\u001b[0m\n",
      "\u001b[0;32m~/.local/lib/python3.6/site-packages/tensorflow/python/eager/def_function.py\u001b[0m in \u001b[0;36m_call\u001b[0;34m(self, *args, **kwds)\u001b[0m\n\u001b[1;32m    915\u001b[0m       \u001b[0;31m# In this case we have created variables on the first call, so we run the\u001b[0m\u001b[0;34m\u001b[0m\u001b[0;34m\u001b[0m\u001b[0;34m\u001b[0m\u001b[0m\n\u001b[1;32m    916\u001b[0m       \u001b[0;31m# defunned version which is guaranteed to never create variables.\u001b[0m\u001b[0;34m\u001b[0m\u001b[0;34m\u001b[0m\u001b[0;34m\u001b[0m\u001b[0m\n\u001b[0;32m--> 917\u001b[0;31m       \u001b[0;32mreturn\u001b[0m \u001b[0mself\u001b[0m\u001b[0;34m.\u001b[0m\u001b[0m_stateless_fn\u001b[0m\u001b[0;34m(\u001b[0m\u001b[0;34m*\u001b[0m\u001b[0margs\u001b[0m\u001b[0;34m,\u001b[0m \u001b[0;34m**\u001b[0m\u001b[0mkwds\u001b[0m\u001b[0;34m)\u001b[0m  \u001b[0;31m# pylint: disable=not-callable\u001b[0m\u001b[0;34m\u001b[0m\u001b[0;34m\u001b[0m\u001b[0m\n\u001b[0m\u001b[1;32m    918\u001b[0m     \u001b[0;32melif\u001b[0m \u001b[0mself\u001b[0m\u001b[0;34m.\u001b[0m\u001b[0m_stateful_fn\u001b[0m \u001b[0;32mis\u001b[0m \u001b[0;32mnot\u001b[0m \u001b[0;32mNone\u001b[0m\u001b[0;34m:\u001b[0m\u001b[0;34m\u001b[0m\u001b[0;34m\u001b[0m\u001b[0m\n\u001b[1;32m    919\u001b[0m       \u001b[0;31m# Release the lock early so that multiple threads can perform the call\u001b[0m\u001b[0;34m\u001b[0m\u001b[0;34m\u001b[0m\u001b[0;34m\u001b[0m\u001b[0m\n",
      "\u001b[0;32m~/.local/lib/python3.6/site-packages/tensorflow/python/eager/function.py\u001b[0m in \u001b[0;36m__call__\u001b[0;34m(self, *args, **kwargs)\u001b[0m\n\u001b[1;32m   3038\u001b[0m        filtered_flat_args) = self._maybe_define_function(args, kwargs)\n\u001b[1;32m   3039\u001b[0m     return graph_function._call_flat(\n\u001b[0;32m-> 3040\u001b[0;31m         filtered_flat_args, captured_inputs=graph_function.captured_inputs)  # pylint: disable=protected-access\n\u001b[0m\u001b[1;32m   3041\u001b[0m \u001b[0;34m\u001b[0m\u001b[0m\n\u001b[1;32m   3042\u001b[0m   \u001b[0;34m@\u001b[0m\u001b[0mproperty\u001b[0m\u001b[0;34m\u001b[0m\u001b[0;34m\u001b[0m\u001b[0m\n",
      "\u001b[0;32m~/.local/lib/python3.6/site-packages/tensorflow/python/eager/function.py\u001b[0m in \u001b[0;36m_call_flat\u001b[0;34m(self, args, captured_inputs, cancellation_manager)\u001b[0m\n\u001b[1;32m   1962\u001b[0m       \u001b[0;31m# No tape is watching; skip to running the function.\u001b[0m\u001b[0;34m\u001b[0m\u001b[0;34m\u001b[0m\u001b[0;34m\u001b[0m\u001b[0m\n\u001b[1;32m   1963\u001b[0m       return self._build_call_outputs(self._inference_function.call(\n\u001b[0;32m-> 1964\u001b[0;31m           ctx, args, cancellation_manager=cancellation_manager))\n\u001b[0m\u001b[1;32m   1965\u001b[0m     forward_backward = self._select_forward_and_backward_functions(\n\u001b[1;32m   1966\u001b[0m         \u001b[0margs\u001b[0m\u001b[0;34m,\u001b[0m\u001b[0;34m\u001b[0m\u001b[0;34m\u001b[0m\u001b[0m\n",
      "\u001b[0;32m~/.local/lib/python3.6/site-packages/tensorflow/python/eager/function.py\u001b[0m in \u001b[0;36mcall\u001b[0;34m(self, ctx, args, cancellation_manager)\u001b[0m\n\u001b[1;32m    594\u001b[0m               \u001b[0minputs\u001b[0m\u001b[0;34m=\u001b[0m\u001b[0margs\u001b[0m\u001b[0;34m,\u001b[0m\u001b[0;34m\u001b[0m\u001b[0;34m\u001b[0m\u001b[0m\n\u001b[1;32m    595\u001b[0m               \u001b[0mattrs\u001b[0m\u001b[0;34m=\u001b[0m\u001b[0mattrs\u001b[0m\u001b[0;34m,\u001b[0m\u001b[0;34m\u001b[0m\u001b[0;34m\u001b[0m\u001b[0m\n\u001b[0;32m--> 596\u001b[0;31m               ctx=ctx)\n\u001b[0m\u001b[1;32m    597\u001b[0m         \u001b[0;32melse\u001b[0m\u001b[0;34m:\u001b[0m\u001b[0;34m\u001b[0m\u001b[0;34m\u001b[0m\u001b[0m\n\u001b[1;32m    598\u001b[0m           outputs = execute.execute_with_cancellation(\n",
      "\u001b[0;32m~/.local/lib/python3.6/site-packages/tensorflow/python/eager/execute.py\u001b[0m in \u001b[0;36mquick_execute\u001b[0;34m(op_name, num_outputs, inputs, attrs, ctx, name)\u001b[0m\n\u001b[1;32m     58\u001b[0m     \u001b[0mctx\u001b[0m\u001b[0;34m.\u001b[0m\u001b[0mensure_initialized\u001b[0m\u001b[0;34m(\u001b[0m\u001b[0;34m)\u001b[0m\u001b[0;34m\u001b[0m\u001b[0;34m\u001b[0m\u001b[0m\n\u001b[1;32m     59\u001b[0m     tensors = pywrap_tfe.TFE_Py_Execute(ctx._handle, device_name, op_name,\n\u001b[0;32m---> 60\u001b[0;31m                                         inputs, attrs, num_outputs)\n\u001b[0m\u001b[1;32m     61\u001b[0m   \u001b[0;32mexcept\u001b[0m \u001b[0mcore\u001b[0m\u001b[0;34m.\u001b[0m\u001b[0m_NotOkStatusException\u001b[0m \u001b[0;32mas\u001b[0m \u001b[0me\u001b[0m\u001b[0;34m:\u001b[0m\u001b[0;34m\u001b[0m\u001b[0;34m\u001b[0m\u001b[0m\n\u001b[1;32m     62\u001b[0m     \u001b[0;32mif\u001b[0m \u001b[0mname\u001b[0m \u001b[0;32mis\u001b[0m \u001b[0;32mnot\u001b[0m \u001b[0;32mNone\u001b[0m\u001b[0;34m:\u001b[0m\u001b[0;34m\u001b[0m\u001b[0;34m\u001b[0m\u001b[0m\n",
      "\u001b[0;31mKeyboardInterrupt\u001b[0m: "
     ]
    }
   ],
   "source": [
    "model.fit(train_data, epochs=2000, verbose=1, callbacks=callbacks, initial_epoch = 131)"
   ]
  },
  {
   "cell_type": "code",
   "execution_count": null,
   "metadata": {},
   "outputs": [],
   "source": []
  },
  {
   "cell_type": "code",
   "execution_count": null,
   "metadata": {},
   "outputs": [],
   "source": []
  }
 ],
 "metadata": {
  "kernelspec": {
   "display_name": "Python 3",
   "language": "python",
   "name": "python3"
  },
  "language_info": {
   "codemirror_mode": {
    "name": "ipython",
    "version": 3
   },
   "file_extension": ".py",
   "mimetype": "text/x-python",
   "name": "python",
   "nbconvert_exporter": "python",
   "pygments_lexer": "ipython3",
   "version": "3.6.9"
  }
 },
 "nbformat": 4,
 "nbformat_minor": 2
}
