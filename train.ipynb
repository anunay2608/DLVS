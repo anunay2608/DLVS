{
 "cells": [
  {
   "cell_type": "markdown",
   "metadata": {},
   "source": [
    "NODELTA WALA HAI YE"
   ]
  },
  {
   "cell_type": "code",
   "execution_count": 1,
   "metadata": {},
   "outputs": [],
   "source": [
    "import tensorflow as tf\n",
    "import os\n",
    "import numpy as np\n",
    "import pickle\n",
    "from tensorflow.keras.layers import Activation\n",
    "#os.environ[\"CUDA_VISIBLE_DEVICES\"] = \"-1\""
   ]
  },
  {
   "cell_type": "code",
   "execution_count": null,
   "metadata": {},
   "outputs": [],
   "source": []
  },
  {
   "cell_type": "code",
   "execution_count": 2,
   "metadata": {},
   "outputs": [],
   "source": [
    "### MODEL ###"
   ]
  },
  {
   "cell_type": "code",
   "execution_count": 3,
   "metadata": {},
   "outputs": [],
   "source": [
    "def activation_fn(x):\n",
    "    value = (5*(tf.math.exp(x/5) - tf.math.exp(-x/5))/(tf.math.exp(x/5) + tf.math.exp(-x/5)))\n",
    "    return value"
   ]
  },
  {
   "cell_type": "code",
   "execution_count": 4,
   "metadata": {},
   "outputs": [],
   "source": [
    "from keras.utils.generic_utils import get_custom_objects\n",
    "get_custom_objects().update({'modified_tanh': Activation(activation_fn)})"
   ]
  },
  {
   "cell_type": "code",
   "execution_count": null,
   "metadata": {},
   "outputs": [],
   "source": []
  },
  {
   "cell_type": "code",
   "execution_count": 5,
   "metadata": {},
   "outputs": [
    {
     "name": "stdout",
     "output_type": "stream",
     "text": [
      "WARNING:tensorflow:Layer lstm will not use cuDNN kernels since it doesn't meet the criteria. It will use a generic GPU kernel as fallback when running on GPU.\n",
      "WARNING:tensorflow:Layer lstm_1 will not use cuDNN kernels since it doesn't meet the criteria. It will use a generic GPU kernel as fallback when running on GPU.\n",
      "WARNING:tensorflow:Layer lstm_2 will not use cuDNN kernels since it doesn't meet the criteria. It will use a generic GPU kernel as fallback when running on GPU.\n",
      "WARNING:tensorflow:Layer lstm_3 will not use cuDNN kernels since it doesn't meet the criteria. It will use a generic GPU kernel as fallback when running on GPU.\n",
      "WARNING:tensorflow:Layer lstm_4 will not use cuDNN kernels since it doesn't meet the criteria. It will use a generic GPU kernel as fallback when running on GPU.\n",
      "WARNING:tensorflow:Layer lstm_5 will not use cuDNN kernels since it doesn't meet the criteria. It will use a generic GPU kernel as fallback when running on GPU.\n",
      "WARNING:tensorflow:Layer lstm_6 will not use cuDNN kernels since it doesn't meet the criteria. It will use a generic GPU kernel as fallback when running on GPU.\n",
      "WARNING:tensorflow:Layer lstm_7 will not use cuDNN kernels since it doesn't meet the criteria. It will use a generic GPU kernel as fallback when running on GPU.\n",
      "KerasTensor(type_spec=TensorSpec(shape=(None, 32, 2), dtype=tf.float32, name=None), name='lstm_7/transpose_1:0', description=\"created by layer 'lstm_7'\")\n"
     ]
    }
   ],
   "source": [
    "input_layer = tf.keras.layers.Input((32, 5))\n",
    "lstm_1 = tf.keras.layers.LSTM(16, activation='modified_tanh', recurrent_activation='sigmoid', dropout = 0.15, return_sequences = True, return_state = True)(input_layer)\n",
    "lstm_2 = tf.keras.layers.LSTM(64, activation='modified_tanh', recurrent_activation='sigmoid', dropout = 0.15, return_sequences = True, return_state = True)(lstm_1[0])\n",
    "lstm_3 = tf.keras.layers.LSTM(256, activation='modified_tanh', recurrent_activation='sigmoid', dropout = 0.15, return_sequences = True, return_state = True)(lstm_2[0])\n",
    "lstm_4 = tf.keras.layers.LSTM(512, activation='modified_tanh', recurrent_activation='sigmoid', dropout = 0.15, return_sequences = True, return_state = True)(lstm_3[0])\n",
    "lstm_5 = tf.keras.layers.LSTM(256, activation='modified_tanh', recurrent_activation='sigmoid', dropout = 0.15, return_sequences = True, return_state = True)(lstm_4[0])\n",
    "lstm_6 = tf.keras.layers.LSTM(64, activation='modified_tanh', recurrent_activation='sigmoid', dropout = 0.15, return_sequences = True, return_state = True)(lstm_5[0])\n",
    "lstm_7 = tf.keras.layers.LSTM(16, activation='modified_tanh', recurrent_activation='sigmoid', dropout = 0.15, return_sequences = True, return_state = True)(lstm_6[0])\n",
    "lstm_8 = tf.keras.layers.LSTM(2, activation='modified_tanh', recurrent_activation='sigmoid', dropout = 0.15, return_sequences = True, return_state = True)(lstm_7[0])\n",
    "print(lstm_8[0])"
   ]
  },
  {
   "cell_type": "code",
   "execution_count": 6,
   "metadata": {},
   "outputs": [],
   "source": [
    "model = tf.keras.models.Model(inputs = input_layer, outputs = lstm_8[0], name = \"DLVS_Model\")"
   ]
  },
  {
   "cell_type": "code",
   "execution_count": 7,
   "metadata": {},
   "outputs": [
    {
     "name": "stdout",
     "output_type": "stream",
     "text": [
      "Model: \"DLVS_Model\"\n",
      "_________________________________________________________________\n",
      "Layer (type)                 Output Shape              Param #   \n",
      "=================================================================\n",
      "input_1 (InputLayer)         [(None, 32, 5)]           0         \n",
      "_________________________________________________________________\n",
      "lstm (LSTM)                  [(None, 32, 16), (None, 1 1408      \n",
      "_________________________________________________________________\n",
      "lstm_1 (LSTM)                [(None, 32, 64), (None, 6 20736     \n",
      "_________________________________________________________________\n",
      "lstm_2 (LSTM)                [(None, 32, 256), (None,  328704    \n",
      "_________________________________________________________________\n",
      "lstm_3 (LSTM)                [(None, 32, 512), (None,  1574912   \n",
      "_________________________________________________________________\n",
      "lstm_4 (LSTM)                [(None, 32, 256), (None,  787456    \n",
      "_________________________________________________________________\n",
      "lstm_5 (LSTM)                [(None, 32, 64), (None, 6 82176     \n",
      "_________________________________________________________________\n",
      "lstm_6 (LSTM)                [(None, 32, 16), (None, 1 5184      \n",
      "_________________________________________________________________\n",
      "lstm_7 (LSTM)                [(None, 32, 2), (None, 2) 152       \n",
      "=================================================================\n",
      "Total params: 2,800,728\n",
      "Trainable params: 2,800,728\n",
      "Non-trainable params: 0\n",
      "_________________________________________________________________\n"
     ]
    }
   ],
   "source": [
    "model.summary()"
   ]
  },
  {
   "cell_type": "code",
   "execution_count": null,
   "metadata": {},
   "outputs": [],
   "source": []
  },
  {
   "cell_type": "code",
   "execution_count": 8,
   "metadata": {},
   "outputs": [],
   "source": [
    "### LOSS ###"
   ]
  },
  {
   "cell_type": "code",
   "execution_count": 9,
   "metadata": {},
   "outputs": [],
   "source": [
    "def loss(y_true, y_pred):\n",
    "    y_true = tf.convert_to_tensor(y_true, dtype = tf.float32)\n",
    "    y_pred = tf.convert_to_tensor(y_pred, dtype = tf.float32)\n",
    "    l1 = tf.reduce_mean(tf.math.abs((y_true - y_pred)))\n",
    "    l2 = tf.reduce_mean(tf.math.pow((y_true, y_pred), 2))\n",
    "    loss = l1 + l2\n",
    "    return loss"
   ]
  },
  {
   "cell_type": "code",
   "execution_count": null,
   "metadata": {},
   "outputs": [],
   "source": []
  },
  {
   "cell_type": "code",
   "execution_count": 1,
   "metadata": {},
   "outputs": [],
   "source": [
    "import os\n",
    "error_final = []\n",
    "vel_final = []\n",
    "path = \"/home/uas-dtu/Documents/DL_IBVS/data_2/\"\n",
    "for a in os.listdir(path):\n",
    "    file = open(path + \"/\" + a, \"r\")\n",
    "    for i in [file.readlines()]:\n",
    "        for j in range(len(i) - 32):\n",
    "#             print(j)\n",
    "            error_data = []\n",
    "            vel_data = []\n",
    "            for k in range(32):\n",
    "                #print(i[j + k].split(\",\")[3].split('[')[1].split(\"]\")[0])\n",
    "                #rint(float(i[j + k].split(\",\")[5]))\n",
    "                #print(i[j + k].split(\",\")[4].split(\"\\n\"))\n",
    "                error_data.append([float(i[j + k].split(\",\")[0]), \n",
    "                                   float(i[j + k].split(\",\")[1]),\n",
    "                                   float(i[j + k].split(\",\")[2]), \n",
    "                                   float(i[j + k].split(\",\")[3]), \n",
    "                                   float(i[j + k].split(\",\")[4])])\n",
    "                vel_data.append([float(i[j + k].split(\",\")[5].split('[')[1].split(\"]\")[0]),\n",
    "                                 float(i[j + k].split(\",\")[6].split('[')[1].split(\"]\")[0])])\n",
    "                \n",
    "                #print(error_data)\n",
    "            error_final.append(error_data)\n",
    "            vel_final.append(vel_data)"
   ]
  },
  {
   "cell_type": "code",
   "execution_count": 2,
   "metadata": {},
   "outputs": [
    {
     "name": "stdout",
     "output_type": "stream",
     "text": [
      "177973\n"
     ]
    }
   ],
   "source": [
    "print(len(vel_final))"
   ]
  },
  {
   "cell_type": "code",
   "execution_count": null,
   "metadata": {},
   "outputs": [],
   "source": []
  },
  {
   "cell_type": "code",
   "execution_count": 12,
   "metadata": {},
   "outputs": [],
   "source": [
    "import numpy as np\n",
    "import cv2\n",
    "from tensorflow.keras.utils import Sequence\n",
    "import tensorflow as tf\n",
    "import os\n",
    "import json\n",
    "import random\n",
    "\n",
    "\n",
    "class DataGenerator(Sequence):\n",
    "    def __init__(self, error_final, vel_final,\n",
    "                 batch_size=32,\n",
    "                 shuffle=True):\n",
    "        self.error_final = error_final\n",
    "        self.vel_final = vel_final\n",
    "        self.batch_size = batch_size\n",
    "        self.shuffle = shuffle\n",
    "        self.on_epoch_end()\n",
    "\n",
    "    def on_epoch_end(self):\n",
    "        if self.shuffle:\n",
    "            temp = [i for i in range(len(self.error_final))]\n",
    "            random.shuffle(temp)\n",
    "            #       self.flow_videos = [self.flow_videos[i] for i in temp]\n",
    "            self.error_final = [self.error_final[i] for i in temp]\n",
    "            self.vel_final = [self.vel_final[i] for i in temp]\n",
    "\n",
    "    def __len__(self):\n",
    "        return int(np.floor(len(self.error_final) / self.batch_size))\n",
    "\n",
    "\n",
    "    def __getitem__(self, index):\n",
    "        start_index = index * self.batch_size\n",
    "#         input_1 = []\n",
    "        error_reading = []\n",
    "        vel_reading = []\n",
    "        i = start_index - 1\n",
    "        while len(error_reading) < self.batch_size:\n",
    "            try:\n",
    "                i += 1\n",
    "                error = self.error_final[i%len(self.error_final)]\n",
    "                vel = self.vel_final[i%len(self.vel_final)]\n",
    "                error_reading.append(error)\n",
    "                vel_reading.append(vel)\n",
    "\n",
    "            except Exception as err:\n",
    "                print(err)\n",
    "                continue\n",
    "            \n",
    "        vel_reading = np.array(vel_reading, dtype = np.float32)\n",
    "        error_reading = np.array(error_reading, dtype = np.float32)\n",
    "            \n",
    "        return error_reading, vel_reading"
   ]
  },
  {
   "cell_type": "code",
   "execution_count": 13,
   "metadata": {},
   "outputs": [],
   "source": [
    "train_data = DataGenerator(error_final, vel_final, batch_size=32, shuffle=True)"
   ]
  },
  {
   "cell_type": "code",
   "execution_count": 14,
   "metadata": {
    "scrolled": true
   },
   "outputs": [
    {
     "name": "stdout",
     "output_type": "stream",
     "text": [
      "(32, 32, 5)\n"
     ]
    }
   ],
   "source": [
    "print(train_data.__getitem__(0)[0].shape)"
   ]
  },
  {
   "cell_type": "code",
   "execution_count": 15,
   "metadata": {},
   "outputs": [],
   "source": [
    "from tensorflow.keras.callbacks import (\n",
    "    ModelCheckpoint,\n",
    "    TensorBoard\n",
    ")\n",
    "import tensorflow as tf"
   ]
  },
  {
   "cell_type": "code",
   "execution_count": 16,
   "metadata": {},
   "outputs": [],
   "source": [
    "callbacks = [tf.keras.callbacks.ModelCheckpoint(\"/home/uas-dtu/Documents/DL_IBVS/data_script_drone_vel_2/train_{epoch}.tf\", verbose = 1,\n",
    "                                                save_weights_only=True),\n",
    "             TensorBoard(\"/home/uas-dtu/Documents/DL_IBVS/data_script_drone_vel_2/combined_logs\")]"
   ]
  },
  {
   "cell_type": "code",
   "execution_count": 17,
   "metadata": {},
   "outputs": [],
   "source": [
    "def mse(y_true, y_pred):\n",
    "    y_true = tf.convert_to_tensor(y_true, dtype = tf.float32)\n",
    "    y_pred = tf.convert_to_tensor(y_pred, dtype=tf.float32)\n",
    "    l1 = tf.reduce_mean(tf.math.pow((y_pred - y_true), 2))\n",
    "    l2 = tf.reduce_mean(tf.math.abs((y_pred - y_true)))\n",
    "    loss = l1 + l2\n",
    "    return loss"
   ]
  },
  {
   "cell_type": "code",
   "execution_count": 18,
   "metadata": {},
   "outputs": [],
   "source": [
    "from tensorflow.keras.optimizers import Adam\n",
    "optimizer=Adam(learning_rate=0.0005)"
   ]
  },
  {
   "cell_type": "code",
   "execution_count": 19,
   "metadata": {},
   "outputs": [],
   "source": [
    "model.compile(optimizer=optimizer,loss=mse, metrics = [tf.keras.metrics.RootMeanSquaredError()])"
   ]
  },
  {
   "cell_type": "code",
   "execution_count": 20,
   "metadata": {},
   "outputs": [
    {
     "data": {
      "text/plain": [
       "<tensorflow.python.training.tracking.util.CheckpointLoadStatus at 0x7f55324016a0>"
      ]
     },
     "execution_count": 20,
     "metadata": {},
     "output_type": "execute_result"
    }
   ],
   "source": [
    "#model.load_weights(\"./data_script_drone_vel/train_33.tf\")"
   ]
  },
  {
   "cell_type": "code",
   "execution_count": null,
   "metadata": {
    "scrolled": true
   },
   "outputs": [
    {
     "name": "stdout",
     "output_type": "stream",
     "text": [
      "Epoch 34/2000\n",
      "1271/1271 [==============================] - 1065s 828ms/step - loss: 0.0347 - root_mean_squared_error: 0.0649\n",
      "\n",
      "Epoch 00034: saving model to /home/uas-dtu/Documents/DL_IBVS/data_script_drone_vel/train_34.tf\n",
      "Epoch 35/2000\n",
      "1271/1271 [==============================] - 1043s 820ms/step - loss: 0.0348 - root_mean_squared_error: 0.0649\n",
      "\n",
      "Epoch 00035: saving model to /home/uas-dtu/Documents/DL_IBVS/data_script_drone_vel/train_35.tf\n",
      "Epoch 36/2000\n",
      "1271/1271 [==============================] - 1051s 827ms/step - loss: 0.0343 - root_mean_squared_error: 0.0643\n",
      "\n",
      "Epoch 00036: saving model to /home/uas-dtu/Documents/DL_IBVS/data_script_drone_vel/train_36.tf\n",
      "Epoch 37/2000\n",
      "1271/1271 [==============================] - 1045s 822ms/step - loss: 0.0340 - root_mean_squared_error: 0.0640\n",
      "\n",
      "Epoch 00037: saving model to /home/uas-dtu/Documents/DL_IBVS/data_script_drone_vel/train_37.tf\n",
      "Epoch 38/2000\n",
      "1271/1271 [==============================] - 1051s 827ms/step - loss: 0.0335 - root_mean_squared_error: 0.0627\n",
      "\n",
      "Epoch 00038: saving model to /home/uas-dtu/Documents/DL_IBVS/data_script_drone_vel/train_38.tf\n",
      "Epoch 39/2000\n",
      "1271/1271 [==============================] - 1048s 824ms/step - loss: 0.0334 - root_mean_squared_error: 0.0623\n",
      "\n",
      "Epoch 00039: saving model to /home/uas-dtu/Documents/DL_IBVS/data_script_drone_vel/train_39.tf\n",
      "Epoch 40/2000\n",
      "1271/1271 [==============================] - 1047s 824ms/step - loss: 0.0329 - root_mean_squared_error: 0.0619\n",
      "\n",
      "Epoch 00040: saving model to /home/uas-dtu/Documents/DL_IBVS/data_script_drone_vel/train_40.tf\n",
      "Epoch 41/2000\n",
      "1271/1271 [==============================] - 1041s 819ms/step - loss: 0.0325 - root_mean_squared_error: 0.0614\n",
      "\n",
      "Epoch 00041: saving model to /home/uas-dtu/Documents/DL_IBVS/data_script_drone_vel/train_41.tf\n",
      "Epoch 42/2000\n",
      "1271/1271 [==============================] - 1044s 822ms/step - loss: 0.0323 - root_mean_squared_error: 0.0613\n",
      "\n",
      "Epoch 00042: saving model to /home/uas-dtu/Documents/DL_IBVS/data_script_drone_vel/train_42.tf\n",
      "Epoch 43/2000\n",
      "1271/1271 [==============================] - 1044s 821ms/step - loss: 0.0323 - root_mean_squared_error: 0.0611\n",
      "\n",
      "Epoch 00043: saving model to /home/uas-dtu/Documents/DL_IBVS/data_script_drone_vel/train_43.tf\n",
      "Epoch 44/2000\n",
      "1271/1271 [==============================] - 1048s 824ms/step - loss: 0.0318 - root_mean_squared_error: 0.0605\n",
      "\n",
      "Epoch 00044: saving model to /home/uas-dtu/Documents/DL_IBVS/data_script_drone_vel/train_44.tf\n",
      "Epoch 45/2000\n",
      "1271/1271 [==============================] - 1041s 819ms/step - loss: 0.0315 - root_mean_squared_error: 0.0600\n",
      "\n",
      "Epoch 00045: saving model to /home/uas-dtu/Documents/DL_IBVS/data_script_drone_vel/train_45.tf\n",
      "Epoch 46/2000\n",
      "1271/1271 [==============================] - 1046s 823ms/step - loss: 0.0314 - root_mean_squared_error: 0.0597\n",
      "\n",
      "Epoch 00046: saving model to /home/uas-dtu/Documents/DL_IBVS/data_script_drone_vel/train_46.tf\n",
      "Epoch 47/2000\n",
      " 186/1271 [===>..........................] - ETA: 14:48 - loss: 0.0306 - root_mean_squared_error: 0.0592"
     ]
    }
   ],
   "source": [
    "\n",
    "model.fit(train_data, epochs=2000, verbose=1, callbacks=callbacks, initial_epoch = 33)"
   ]
  },
  {
   "cell_type": "code",
   "execution_count": null,
   "metadata": {},
   "outputs": [],
   "source": []
  },
  {
   "cell_type": "code",
   "execution_count": null,
   "metadata": {},
   "outputs": [],
   "source": []
  }
 ],
 "metadata": {
  "kernelspec": {
   "display_name": "Python 3",
   "language": "python",
   "name": "python3"
  },
  "language_info": {
   "codemirror_mode": {
    "name": "ipython",
    "version": 3
   },
   "file_extension": ".py",
   "mimetype": "text/x-python",
   "name": "python",
   "nbconvert_exporter": "python",
   "pygments_lexer": "ipython3",
   "version": "3.6.9"
  }
 },
 "nbformat": 4,
 "nbformat_minor": 2
}
